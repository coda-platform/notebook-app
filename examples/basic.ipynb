{
 "cells": [
  {
   "cell_type": "code",
   "execution_count": 3,
   "metadata": {},
   "outputs": [],
   "source": [
    "%%capture\n",
    "%pip install coda_api"
   ]
  },
  {
   "cell_type": "code",
   "execution_count": 5,
   "metadata": {},
   "outputs": [],
   "source": [
    "from coda_api import hub\n",
    "import pprint\n",
    "\n",
    "access_token = hub.get_access_token({\n",
    "  'username': 'test-user',\n",
    "  'password': 'unsafeunsafe',\n",
    "  'client_id': 'notebook-app',\n",
    "  'client_secret': '3bqaJltl87O12qH6ccDnKXhYlfQYqCgX',\n",
    "  'grant_type': 'password'\n",
    "    \n",
    "})"
   ]
  },
  {
   "cell_type": "code",
   "execution_count": 6,
   "metadata": {},
   "outputs": [
    {
     "name": "stdout",
     "output_type": "stream",
     "text": [
      "[[{'results': [{'count': 5810,\n",
      "                'field': 'age',\n",
      "                'mean': {'mean': 46.854838709677416, 'populationSize': 124},\n",
      "                'measure': 'continuous',\n",
      "                'stdev': 25.3061557948256}],\n",
      "   'siteCode': '111',\n",
      "   'total': 124}],\n",
      " [{'results': [{'count': 5810,\n",
      "                'field': 'age',\n",
      "                'mean': {'mean': 46.854838709677416, 'populationSize': 124},\n",
      "                'measure': 'continuous',\n",
      "                'stdev': 25.30569030573808}],\n",
      "   'siteCode': 'all',\n",
      "   'total': 124}]]\n"
     ]
    }
   ],
   "source": [
    "query = {\n",
    "    \"selectors\": [\n",
    "        {\n",
    "            \"resource\": \"Patient\",\n",
    "            \"label\": \"Patient_0\",\n",
    "            \"fields\": [\n",
    "                { \"path\": \"age\", \n",
    "                 \"label\": \"patient_age\", \n",
    "                 \"type\": \"integer\" }\n",
    "            ]\n",
    "        }\n",
    "    ],\n",
    "    \"options\": {\n",
    "        \"measures\": {\n",
    "            \"continuous\": [ \"count\", \"mean\", \"stdev\" ],\n",
    "            \"categorical\": []\n",
    "        }\n",
    "    }\n",
    "}\n",
    "\n",
    "sites = ['111']\n",
    "data = hub.execute_query('stats', 'summarize', \n",
    "                         sites, query, access_token)\n",
    "\n",
    "pp = pprint.PrettyPrinter()\n",
    "pp.pprint(data)"
   ]
  }
 ],
 "metadata": {
  "kernelspec": {
   "display_name": "Python 3",
   "language": "python",
   "name": "python3"
  },
  "language_info": {
   "codemirror_mode": {
    "name": "ipython",
    "version": 3
   },
   "file_extension": ".py",
   "mimetype": "text/x-python",
   "name": "python",
   "nbconvert_exporter": "python",
   "pygments_lexer": "ipython3",
   "version": "3.8.5"
  }
 },
 "nbformat": 4,
 "nbformat_minor": 4
}
